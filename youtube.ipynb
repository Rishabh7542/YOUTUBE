{
 "cells": [
  {
   "cell_type": "code",
   "execution_count": 14,
   "id": "5be99bb7",
   "metadata": {},
   "outputs": [],
   "source": [
    "import numpy as np\n",
    "import pandas as pd\n",
    "import math"
   ]
  },
  {
   "cell_type": "code",
   "execution_count": 15,
   "id": "6d862c1f",
   "metadata": {},
   "outputs": [
    {
     "name": "stdout",
     "output_type": "stream",
     "text": [
      "    id type  number tag1 tag2 tag3 tag4 tag5 tag6\n",
      "0    0    V       4   t3   t6   t7   t9  NaN  NaN\n",
      "1    1    V       4   t1   t5   t7  t10  NaN  NaN\n",
      "2    2    V       5   t4   t6   t7   t8  t10  NaN\n",
      "3    3    V       5   t1   t4   t8   t9  t10  NaN\n",
      "4    4    V       3   t2   t6   t8  NaN  NaN  NaN\n",
      "5    5    V       4   t1   t5   t7  t10  NaN  NaN\n",
      "6    6    V       5   t3   t5   t8   t9  t10  NaN\n",
      "7    7    V       3   t2   t4   t8  NaN  NaN  NaN\n",
      "8    8    V       5   t4   t6   t7   t8  t10  NaN\n",
      "9    9    V       4   t1   t8   t9  t10  NaN  NaN\n",
      "10  10    V       3   t1   t2   t9  NaN  NaN  NaN\n",
      "11  11    V       3   t4   t8   t9  NaN  NaN  NaN\n",
      "12  12    V       2   t3   t9  NaN  NaN  NaN  NaN\n",
      "13  13    V       5   t2   t4   t5   t6  t10  NaN\n",
      "14  14    V       5   t2   t5   t7   t8   t9  NaN\n",
      "15  15    V       5   t4   t5   t7   t9  t10  NaN\n",
      "16  16    V       3   t6   t7   t9  NaN  NaN  NaN\n",
      "17  17    V       3   t1   t6   t9  NaN  NaN  NaN\n",
      "18  18    V       3   t4   t5   t9  NaN  NaN  NaN\n",
      "19  19    V       3   t2   t4   t9  NaN  NaN  NaN\n",
      "20  20    V       3   t4   t7  t10  NaN  NaN  NaN\n",
      "21  21    V       2   t6   t9  NaN  NaN  NaN  NaN\n",
      "22  22    V       3   t1   t5   t9  NaN  NaN  NaN\n",
      "23  23    V       3   t3   t8   t9  NaN  NaN  NaN\n",
      "24  24    V       4   t1   t5   t8   t9  NaN  NaN\n",
      "25  25    V       4   t1   t4   t7  t10  NaN  NaN\n",
      "26  26    V       2   t4   t9  NaN  NaN  NaN  NaN\n",
      "27  27    V       4   t3   t8   t9  t10  NaN  NaN\n",
      "28  28    V       3   t6   t7   t9  NaN  NaN  NaN\n",
      "29  29    V       4   t4   t6   t7   t9  NaN  NaN\n",
      "30  30    V       4   t5   t7   t8   t9  NaN  NaN\n",
      "31  31    V       4   t4   t5   t8  t10  NaN  NaN\n",
      "32  32    V       4   t2   t7   t8  t10  NaN  NaN\n",
      "33  33    V       3   t3   t4  t10  NaN  NaN  NaN\n",
      "34  34    V       4   t5   t6   t9  t10  NaN  NaN\n",
      "35  35    V       5   t4   t6   t8   t9  t10  NaN\n",
      "36  36    V       4   t6   t8   t9  t10  NaN  NaN\n",
      "37  37    V       5   t1   t6   t7   t8   t9  NaN\n",
      "38  38    V       2   t3   t9  NaN  NaN  NaN  NaN\n",
      "39  39    V       4   t1   t6   t9  t10  NaN  NaN\n",
      "40  40    V       3   t6   t8  t10  NaN  NaN  NaN\n",
      "41  41    V       3   t4   t5   t8  NaN  NaN  NaN\n",
      "42  42    V       3   t3   t5   t6  NaN  NaN  NaN\n",
      "43  43    V       2   t5   t7  NaN  NaN  NaN  NaN\n",
      "44  44    V       3   t2   t7   t9  NaN  NaN  NaN\n",
      "45  45    V       6   t2   t4   t7   t8   t9  t10\n",
      "46  46    V       3   t1   t2   t9  NaN  NaN  NaN\n",
      "47  47    V       3   t3   t7   t8  NaN  NaN  NaN\n",
      "48  48    V       4   t5   t6   t7  t10  NaN  NaN\n",
      "49  49    V       5   t4   t6   t7   t8  t10  NaN\n"
     ]
    }
   ],
   "source": [
    "df = pd.read_excel(r'C:\\Users\\acer\\OPTIMISATION_PROJECT\\Tags_content.xlsx',na_values=['\\t'])\n",
    "print(df)"
   ]
  },
  {
   "cell_type": "code",
   "execution_count": 16,
   "id": "6b08293c",
   "metadata": {},
   "outputs": [
    {
     "name": "stdout",
     "output_type": "stream",
     "text": [
      "    id type  number tag1 tag2 tag3 tag4 tag5 tag6                tags\n",
      "0    0    V       4   t3   t6   t7   t9    0    0         t3,t6,t7,t9\n",
      "1    1    V       4   t1   t5   t7  t10    0    0        t1,t5,t7,t10\n",
      "2    2    V       5   t4   t6   t7   t8  t10    0     t4,t6,t7,t8,t10\n",
      "3    3    V       5   t1   t4   t8   t9  t10    0     t1,t4,t8,t9,t10\n",
      "4    4    V       3   t2   t6   t8    0    0    0            t2,t6,t8\n",
      "5    5    V       4   t1   t5   t7  t10    0    0        t1,t5,t7,t10\n",
      "6    6    V       5   t3   t5   t8   t9  t10    0     t3,t5,t8,t9,t10\n",
      "7    7    V       3   t2   t4   t8    0    0    0            t2,t4,t8\n",
      "8    8    V       5   t4   t6   t7   t8  t10    0     t4,t6,t7,t8,t10\n",
      "9    9    V       4   t1   t8   t9  t10    0    0        t1,t8,t9,t10\n",
      "10  10    V       3   t1   t2   t9    0    0    0            t1,t2,t9\n",
      "11  11    V       3   t4   t8   t9    0    0    0            t4,t8,t9\n",
      "12  12    V       2   t3   t9    0    0    0    0               t3,t9\n",
      "13  13    V       5   t2   t4   t5   t6  t10    0     t2,t4,t5,t6,t10\n",
      "14  14    V       5   t2   t5   t7   t8   t9    0      t2,t5,t7,t8,t9\n",
      "15  15    V       5   t4   t5   t7   t9  t10    0     t4,t5,t7,t9,t10\n",
      "16  16    V       3   t6   t7   t9    0    0    0            t6,t7,t9\n",
      "17  17    V       3   t1   t6   t9    0    0    0            t1,t6,t9\n",
      "18  18    V       3   t4   t5   t9    0    0    0            t4,t5,t9\n",
      "19  19    V       3   t2   t4   t9    0    0    0            t2,t4,t9\n",
      "20  20    V       3   t4   t7  t10    0    0    0           t4,t7,t10\n",
      "21  21    V       2   t6   t9    0    0    0    0               t6,t9\n",
      "22  22    V       3   t1   t5   t9    0    0    0            t1,t5,t9\n",
      "23  23    V       3   t3   t8   t9    0    0    0            t3,t8,t9\n",
      "24  24    V       4   t1   t5   t8   t9    0    0         t1,t5,t8,t9\n",
      "25  25    V       4   t1   t4   t7  t10    0    0        t1,t4,t7,t10\n",
      "26  26    V       2   t4   t9    0    0    0    0               t4,t9\n",
      "27  27    V       4   t3   t8   t9  t10    0    0        t3,t8,t9,t10\n",
      "28  28    V       3   t6   t7   t9    0    0    0            t6,t7,t9\n",
      "29  29    V       4   t4   t6   t7   t9    0    0         t4,t6,t7,t9\n",
      "30  30    V       4   t5   t7   t8   t9    0    0         t5,t7,t8,t9\n",
      "31  31    V       4   t4   t5   t8  t10    0    0        t4,t5,t8,t10\n",
      "32  32    V       4   t2   t7   t8  t10    0    0        t2,t7,t8,t10\n",
      "33  33    V       3   t3   t4  t10    0    0    0           t3,t4,t10\n",
      "34  34    V       4   t5   t6   t9  t10    0    0        t5,t6,t9,t10\n",
      "35  35    V       5   t4   t6   t8   t9  t10    0     t4,t6,t8,t9,t10\n",
      "36  36    V       4   t6   t8   t9  t10    0    0        t6,t8,t9,t10\n",
      "37  37    V       5   t1   t6   t7   t8   t9    0      t1,t6,t7,t8,t9\n",
      "38  38    V       2   t3   t9    0    0    0    0               t3,t9\n",
      "39  39    V       4   t1   t6   t9  t10    0    0        t1,t6,t9,t10\n",
      "40  40    V       3   t6   t8  t10    0    0    0           t6,t8,t10\n",
      "41  41    V       3   t4   t5   t8    0    0    0            t4,t5,t8\n",
      "42  42    V       3   t3   t5   t6    0    0    0            t3,t5,t6\n",
      "43  43    V       2   t5   t7    0    0    0    0               t5,t7\n",
      "44  44    V       3   t2   t7   t9    0    0    0            t2,t7,t9\n",
      "45  45    V       6   t2   t4   t7   t8   t9  t10  t2,t4,t7,t8,t9,t10\n",
      "46  46    V       3   t1   t2   t9    0    0    0            t1,t2,t9\n",
      "47  47    V       3   t3   t7   t8    0    0    0            t3,t7,t8\n",
      "48  48    V       4   t5   t6   t7  t10    0    0        t5,t6,t7,t10\n",
      "49  49    V       5   t4   t6   t7   t8  t10    0     t4,t6,t7,t8,t10\n"
     ]
    }
   ],
   "source": [
    "#df['tags']=df['tag1']+','+df['tag2']+','+df['tag3']+','+df['tag4']+','+df['tag5']+','+df['tag6']+','+df['tag7']+','+df['tag8']+','+df['tag9']+','+df['tag10']+','+df['tag11']+','+df['tag12']+','+df['tag13']+','+df['tag14']\n",
    "df['tags']=df['tag1']\n",
    "df = df.fillna(value=0)\n",
    "#ar=[]\n",
    "\n",
    "for i in range(0,50):\n",
    "    for j in range(4,9):\n",
    "        if df.iat[i,j]!=0:\n",
    "            df.iat[i,9]=df.iat[i,9]+','+df.iat[i,j]\n",
    "\n",
    "\n",
    "print(df)\n",
    "#data_cell_1 = df.iat[0, 1]                     # Using .iat attribute\n",
    "#print(data_cell_1)"
   ]
  },
  {
   "cell_type": "code",
   "execution_count": 17,
   "id": "70b71aa5",
   "metadata": {},
   "outputs": [],
   "source": [
    "df = df.drop(df.columns[[1,2,3,4,5,6,7,8]], axis=1)"
   ]
  },
  {
   "cell_type": "code",
   "execution_count": 18,
   "id": "34a29bb6",
   "metadata": {},
   "outputs": [
    {
     "name": "stdout",
     "output_type": "stream",
     "text": [
      "    id                tags\n",
      "0    0         t3,t6,t7,t9\n",
      "1    1        t1,t5,t7,t10\n",
      "2    2     t4,t6,t7,t8,t10\n",
      "3    3     t1,t4,t8,t9,t10\n",
      "4    4            t2,t6,t8\n",
      "5    5        t1,t5,t7,t10\n",
      "6    6     t3,t5,t8,t9,t10\n",
      "7    7            t2,t4,t8\n",
      "8    8     t4,t6,t7,t8,t10\n",
      "9    9        t1,t8,t9,t10\n",
      "10  10            t1,t2,t9\n",
      "11  11            t4,t8,t9\n",
      "12  12               t3,t9\n",
      "13  13     t2,t4,t5,t6,t10\n",
      "14  14      t2,t5,t7,t8,t9\n",
      "15  15     t4,t5,t7,t9,t10\n",
      "16  16            t6,t7,t9\n",
      "17  17            t1,t6,t9\n",
      "18  18            t4,t5,t9\n",
      "19  19            t2,t4,t9\n",
      "20  20           t4,t7,t10\n",
      "21  21               t6,t9\n",
      "22  22            t1,t5,t9\n",
      "23  23            t3,t8,t9\n",
      "24  24         t1,t5,t8,t9\n",
      "25  25        t1,t4,t7,t10\n",
      "26  26               t4,t9\n",
      "27  27        t3,t8,t9,t10\n",
      "28  28            t6,t7,t9\n",
      "29  29         t4,t6,t7,t9\n",
      "30  30         t5,t7,t8,t9\n",
      "31  31        t4,t5,t8,t10\n",
      "32  32        t2,t7,t8,t10\n",
      "33  33           t3,t4,t10\n",
      "34  34        t5,t6,t9,t10\n",
      "35  35     t4,t6,t8,t9,t10\n",
      "36  36        t6,t8,t9,t10\n",
      "37  37      t1,t6,t7,t8,t9\n",
      "38  38               t3,t9\n",
      "39  39        t1,t6,t9,t10\n",
      "40  40           t6,t8,t10\n",
      "41  41            t4,t5,t8\n",
      "42  42            t3,t5,t6\n",
      "43  43               t5,t7\n",
      "44  44            t2,t7,t9\n",
      "45  45  t2,t4,t7,t8,t9,t10\n",
      "46  46            t1,t2,t9\n",
      "47  47            t3,t7,t8\n",
      "48  48        t5,t6,t7,t10\n",
      "49  49     t4,t6,t7,t8,t10\n"
     ]
    }
   ],
   "source": [
    "print(df)"
   ]
  },
  {
   "cell_type": "code",
   "execution_count": 19,
   "id": "a70121db",
   "metadata": {},
   "outputs": [],
   "source": [
    "from sklearn.feature_extraction.text import CountVectorizer   # using CountVectorizer class\n",
    "cv = CountVectorizer(max_features=10,stop_words='english')  #taking out top 10 common words"
   ]
  },
  {
   "cell_type": "code",
   "execution_count": 20,
   "id": "8b2ebe28",
   "metadata": {},
   "outputs": [],
   "source": [
    "vectors = cv.fit_transform(df['tags']).toarray()"
   ]
  },
  {
   "cell_type": "code",
   "execution_count": 21,
   "id": "3c7c4a6d",
   "metadata": {},
   "outputs": [
    {
     "name": "stdout",
     "output_type": "stream",
     "text": [
      "[[0 0 0 1 0 0 1 1 0 1]\n",
      " [1 1 0 0 0 1 0 1 0 0]\n",
      " [0 1 0 0 1 0 1 1 1 0]\n",
      " [1 1 0 0 1 0 0 0 1 1]\n",
      " [0 0 1 0 0 0 1 0 1 0]\n",
      " [1 1 0 0 0 1 0 1 0 0]\n",
      " [0 1 0 1 0 1 0 0 1 1]\n",
      " [0 0 1 0 1 0 0 0 1 0]\n",
      " [0 1 0 0 1 0 1 1 1 0]\n",
      " [1 1 0 0 0 0 0 0 1 1]\n",
      " [1 0 1 0 0 0 0 0 0 1]\n",
      " [0 0 0 0 1 0 0 0 1 1]\n",
      " [0 0 0 1 0 0 0 0 0 1]\n",
      " [0 1 1 0 1 1 1 0 0 0]\n",
      " [0 0 1 0 0 1 0 1 1 1]\n",
      " [0 1 0 0 1 1 0 1 0 1]\n",
      " [0 0 0 0 0 0 1 1 0 1]\n",
      " [1 0 0 0 0 0 1 0 0 1]\n",
      " [0 0 0 0 1 1 0 0 0 1]\n",
      " [0 0 1 0 1 0 0 0 0 1]\n",
      " [0 1 0 0 1 0 0 1 0 0]\n",
      " [0 0 0 0 0 0 1 0 0 1]\n",
      " [1 0 0 0 0 1 0 0 0 1]\n",
      " [0 0 0 1 0 0 0 0 1 1]\n",
      " [1 0 0 0 0 1 0 0 1 1]\n",
      " [1 1 0 0 1 0 0 1 0 0]\n",
      " [0 0 0 0 1 0 0 0 0 1]\n",
      " [0 1 0 1 0 0 0 0 1 1]\n",
      " [0 0 0 0 0 0 1 1 0 1]\n",
      " [0 0 0 0 1 0 1 1 0 1]\n",
      " [0 0 0 0 0 1 0 1 1 1]\n",
      " [0 1 0 0 1 1 0 0 1 0]\n",
      " [0 1 1 0 0 0 0 1 1 0]\n",
      " [0 1 0 1 1 0 0 0 0 0]\n",
      " [0 1 0 0 0 1 1 0 0 1]\n",
      " [0 1 0 0 1 0 1 0 1 1]\n",
      " [0 1 0 0 0 0 1 0 1 1]\n",
      " [1 0 0 0 0 0 1 1 1 1]\n",
      " [0 0 0 1 0 0 0 0 0 1]\n",
      " [1 1 0 0 0 0 1 0 0 1]\n",
      " [0 1 0 0 0 0 1 0 1 0]\n",
      " [0 0 0 0 1 1 0 0 1 0]\n",
      " [0 0 0 1 0 1 1 0 0 0]\n",
      " [0 0 0 0 0 1 0 1 0 0]\n",
      " [0 0 1 0 0 0 0 1 0 1]\n",
      " [0 1 1 0 1 0 0 1 1 1]\n",
      " [1 0 1 0 0 0 0 0 0 1]\n",
      " [0 0 0 1 0 0 0 1 1 0]\n",
      " [0 1 0 0 0 1 1 1 0 0]\n",
      " [0 1 0 0 1 0 1 1 1 0]]\n"
     ]
    }
   ],
   "source": [
    "print(vectors)"
   ]
  },
  {
   "cell_type": "code",
   "execution_count": 22,
   "id": "d78a08ca",
   "metadata": {},
   "outputs": [
    {
     "name": "stderr",
     "output_type": "stream",
     "text": [
      "C:\\Python310\\lib\\site-packages\\sklearn\\utils\\deprecation.py:87: FutureWarning: Function get_feature_names is deprecated; get_feature_names is deprecated in 1.0 and will be removed in 1.2. Please use get_feature_names_out instead.\n",
      "  warnings.warn(msg, category=FutureWarning)\n"
     ]
    },
    {
     "data": {
      "text/plain": [
       "['t1', 't10', 't2', 't3', 't4', 't5', 't6', 't7', 't8', 't9']"
      ]
     },
     "execution_count": 22,
     "metadata": {},
     "output_type": "execute_result"
    }
   ],
   "source": [
    "cv.get_feature_names()"
   ]
  },
  {
   "cell_type": "code",
   "execution_count": 23,
   "id": "c68cb643",
   "metadata": {},
   "outputs": [
    {
     "data": {
      "text/plain": [
       "array([1.        , 0.25      , 0.4472136 , 0.2236068 , 0.28867513,\n",
       "       0.25      , 0.4472136 , 0.        , 0.4472136 , 0.25      ,\n",
       "       0.28867513, 0.28867513, 0.70710678, 0.2236068 , 0.4472136 ,\n",
       "       0.4472136 , 0.8660254 , 0.57735027, 0.28867513, 0.28867513,\n",
       "       0.28867513, 0.70710678, 0.28867513, 0.57735027, 0.25      ,\n",
       "       0.25      , 0.35355339, 0.5       , 0.8660254 , 0.75      ,\n",
       "       0.5       , 0.        , 0.25      , 0.28867513, 0.5       ,\n",
       "       0.4472136 , 0.5       , 0.67082039, 0.70710678, 0.5       ,\n",
       "       0.28867513, 0.        , 0.57735027, 0.35355339, 0.57735027,\n",
       "       0.40824829, 0.28867513, 0.57735027, 0.5       , 0.4472136 ])"
      ]
     },
     "execution_count": 23,
     "metadata": {},
     "output_type": "execute_result"
    }
   ],
   "source": [
    "from sklearn.metrics.pairwise import cosine_similarity\n",
    "\n",
    "similarity = cosine_similarity(vectors)\n",
    "similarity[0]"
   ]
  },
  {
   "cell_type": "code",
   "execution_count": 24,
   "id": "570dd79d",
   "metadata": {},
   "outputs": [],
   "source": [
    "#sorted(list(enumerate(similarity[0])),reverse=True,key=lambda x:x[1])[1:20]"
   ]
  },
  {
   "cell_type": "code",
   "execution_count": 25,
   "id": "3b47bacb",
   "metadata": {},
   "outputs": [],
   "source": [
    "#def recommend(content_no):\n",
    "    #content_index = df[df['tags'] == tag_title].index[0]  # fetching movie index from movie title\n",
    "    #distances = similarity[content_no]                      # gives similarity score of given movie with the rest of the movies\n",
    "    #content_list = sorted(list(enumerate(distances)),reverse=True,key=lambda x:x[1])[1:10]\n",
    "    #double_content_list= sorted(list(enumerate(distances)),reverse=True,key=lambda x:x[1])[1:20]\n",
    "    \n",
    "    #print(content_list[0])\n",
    "    #print(content_list)\n",
    "    #number_V=0\n",
    "    #for i in content_list:\n",
    "     #   print(df.iloc[i[0]].id,df.iloc[i[0]].type)\n",
    "        #if df.iloc[i[0]].type == 'V':\n",
    "         #s   number_V=number_V+1;\n",
    "            \n",
    "    #if number_V%2 != 0:\n",
    "    #    if df.iloc[double_content_list[0]]\n",
    "    #    print(df.iloc[i[0]].type)\n",
    "    #return"
   ]
  },
  {
   "cell_type": "code",
   "execution_count": 26,
   "id": "4e2c0fe6",
   "metadata": {},
   "outputs": [],
   "source": [
    "#recommend(0)"
   ]
  }
 ],
 "metadata": {
  "kernelspec": {
   "display_name": "Python 3 (ipykernel)",
   "language": "python",
   "name": "python3"
  },
  "language_info": {
   "codemirror_mode": {
    "name": "ipython",
    "version": 3
   },
   "file_extension": ".py",
   "mimetype": "text/x-python",
   "name": "python",
   "nbconvert_exporter": "python",
   "pygments_lexer": "ipython3",
   "version": "3.10.4"
  }
 },
 "nbformat": 4,
 "nbformat_minor": 5
}
